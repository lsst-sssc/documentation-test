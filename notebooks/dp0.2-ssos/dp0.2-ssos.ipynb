{
 "cells": [
  {
   "cell_type": "markdown",
   "metadata": {},
   "source": [
    "# Solar system objects in DP0.2\n",
    "\n",
    "[LSST's Data Preview v0.2](https://dp0-2.lsst.io/) is simulation of 300 deg2 of sky, observed with an LSST-like camera and cadence.  Solar system objects are not included in the simulated DP0.2 data, but one can still search the DP0.2 metadata for coverage of a their ephemerides.  This document serves as a resource to share information on those targets."
   ]
  },
  {
   "cell_type": "markdown",
   "metadata": {},
   "source": [
    "## sbsearch results (lead: Mike Kelley)\n",
    "\n",
    "[sbsearch](https://github.com/Small-Bodies-Node/sbsearch) is a library that is designed to search for comets and asteroids in wide-field time-domain data sets.  [v3 of sbsearch](https://github.com/Small-Bodies-Node/sbsearch/tree/v3) is in development (as of Jan 2025), but has been successfully used to find solar system objects in DP0.2 data.  The following figure serves as an example of such a search for comet C/2022 R6 (PanSTARRS).\n",
    "\n",
    "<figure>\n",
    "    <img src=\"c2022r6.png\"\n",
    "     width=\"90%\"\n",
    "     alt=\"A looping line and squares that sparsely follow it.\">\n",
    "    <figcaption>C/2022 R6 (PanSTARRS) ephemeris and the DP0.2 images that include it.</figcaption>\n",
    "</figure>\n",
    "\n",
    "The following solar system objects have been \"observed\" by the DP0.2 data set:\n",
    "\n",
    "| Object | Number of observations |\n",
    "| -- | -- |\n",
    "| \\(65803\\) Didymos | 4 |\n",
    "| 2022 SC19 | 26 |\n",
    "| C/2022 R6 (PanSTARRS) | 63 |\n",
    "| C/2019 Q3 (PanSTARRS) | 12 |\n",
    "| C/2022 O1 (ATLAS) | 30 |\n",
    "| C/2023 V4 (Camarasa-Duszanowicz) | 26 |\n",
    "| C/2023 V5 (Leonard) | 31 |\n",
    "\n",
    "See [dp0.2-found.txt](dp0.2-found.txt) for a list of all found observations.\n"
   ]
  }
 ],
 "metadata": {
  "language_info": {
   "name": "python"
  }
 },
 "nbformat": 4,
 "nbformat_minor": 2
}
